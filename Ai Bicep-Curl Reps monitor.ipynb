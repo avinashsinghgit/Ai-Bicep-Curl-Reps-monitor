{
 "cells": [
  {
   "cell_type": "markdown",
   "id": "c39c30e2",
   "metadata": {},
   "source": [
    "![](https://learnopencv.com/wp-content/uploads/2022/03/MediaPipe-pose-BlazePose-Topology.jpg)"
   ]
  },
  {
   "cell_type": "code",
   "execution_count": 1,
   "id": "ff43c7db",
   "metadata": {},
   "outputs": [],
   "source": [
    "import mediapipe as mp\n",
    "import cv2\n",
    "import numpy as np"
   ]
  },
  {
   "cell_type": "code",
   "execution_count": 2,
   "id": "f09dbe30",
   "metadata": {},
   "outputs": [],
   "source": [
    "def calculate_angle(a,b,c):\n",
    "    a = np.array(a) # FIRST\n",
    "    b = np.array(b) # MID\n",
    "    c = np.array(c) # LAST\n",
    "    \n",
    "    radians = np.arctan2(c[1]-b[1],c[0]-b[0]) - np.arctan2(a[1]-b[1],a[0]-b[0])\n",
    "    angle = np.abs(radians*180.0/np.pi)\n",
    "    \n",
    "    if angle>180.0:\n",
    "        angle = 360-angle\n",
    "    \n",
    "    return angle\n",
    "    "
   ]
  },
  {
   "cell_type": "code",
   "execution_count": 3,
   "id": "a8e44d2a",
   "metadata": {},
   "outputs": [],
   "source": [
    "mp_pose = mp.solutions.pose\n",
    "mp_drawing = mp.solutions.drawing_utils"
   ]
  },
  {
   "cell_type": "code",
   "execution_count": 9,
   "id": "c88b27d6",
   "metadata": {},
   "outputs": [
    {
     "name": "stderr",
     "output_type": "stream",
     "text": [
      "I0000 00:00:1707754647.115462       1 gl_context.cc:344] GL version: 2.1 (2.1 Metal - 88), renderer: Apple M1\n"
     ]
    }
   ],
   "source": [
    "counter = 0\n",
    "stage = None\n",
    "\n",
    "\n",
    "with mp_pose.Pose(static_image_mode=False,\n",
    "                  min_detection_confidence=0.5,\n",
    "                  min_tracking_confidence=0.5) as pose:\n",
    "    \n",
    "    cap = cv2.VideoCapture(0)\n",
    "    # For \"mac\" the destroyAllWindows does not work so using \"startWindowThread\"\n",
    "#     cv2.startWindowThread()\n",
    "    \n",
    "    while cap.isOpened():\n",
    "        ret,frame = cap.read()\n",
    "        \n",
    "        if not ret:\n",
    "            print(\"Error occured while loading the webcam\")\n",
    "            \n",
    "        # BGR -> RGB\n",
    "        img = cv2.cvtColor(frame, cv2.COLOR_BGR2RGB)\n",
    "        \n",
    "        img.flags.writeable=False\n",
    "        \n",
    "        results = pose.process(img)\n",
    "\n",
    "        img.flags.writeable = True\n",
    "\n",
    "        # RGB -> BGR\n",
    "        img = cv2.cvtColor(img, cv2.COLOR_RGB2BGR)\n",
    "        \n",
    "        \n",
    "        try:\n",
    "            # landmarks\n",
    "            landmarks = results.pose_landmarks.landmark\n",
    "\n",
    "            # shoulder       landmarks[mp_pose.PoseLandmark.LEFT_SHOULDER.value].x,\n",
    "            left_shoulder = [ landmarks[mp_pose.PoseLandmark.LEFT_SHOULDER.value].x, landmarks[mp_pose.PoseLandmark.LEFT_SHOULDER.value].y]                                     \n",
    "            right_sholder = [ landmarks[mp_pose.PoseLandmark.RIGHT_SHOULDER.value].x, landmarks[mp_pose.PoseLandmark.RIGHT_SHOULDER.value].y]\n",
    "\n",
    "            # Elobow = \n",
    "            left_elbow = [landmarks[mp_pose.PoseLandmark.LEFT_ELBOW.value].x, landmarks[mp_pose.PoseLandmark.LEFT_ELBOW.value].y]                                     \n",
    "            right_elbow = [landmarks[mp_pose.PoseLandmark.RIGHT_ELBOW.value].x, landmarks[mp_pose.PoseLandmark.RIGHT_ELBOW.value].y]\n",
    "\n",
    "            # Wrist\n",
    "            left_wrist = [landmarks[mp_pose.PoseLandmark.LEFT_WRIST.value].x, landmarks[mp_pose.PoseLandmark.LEFT_WRIST.value].y]                                     \n",
    "            right_wrist = [landmarks[mp_pose.PoseLandmark.RIGHT_WRIST.value].x, landmarks[mp_pose.PoseLandmark.RIGHT_WRIST.value].y]\n",
    "\n",
    "            left_angle = np.round(calculate_angle(left_shoulder,left_elbow,left_wrist),2)\n",
    "            right_angle  = np.round(calculate_angle(right_sholder,right_elbow,right_wrist),2)\n",
    "        \n",
    "            # Displaying the angle\n",
    "            if landmarks[mp_pose.PoseLandmark.LEFT_ELBOW.value].visibility > 0.5:\n",
    "                cv2.putText(img, str(left_angle), tuple(np.multiply(left_elbow, [1040, 480]).astype(int)),\n",
    "                            cv2.FONT_HERSHEY_SIMPLEX, 1, \n",
    "                            (255, 255, 255), 2, cv2.LINE_AA)\n",
    "\n",
    "            # Displaying the angle\n",
    "            if landmarks[mp_pose.PoseLandmark.RIGHT_ELBOW.value].visibility > 0.5:\n",
    "                cv2.putText(img, str(right_angle), tuple(np.multiply(right_elbow, [640, 480]).astype(int)),\n",
    "                            cv2.FONT_HERSHEY_SIMPLEX, 1, \n",
    "                            (255, 255, 255), 2, cv2.LINE_AA)\n",
    "            \n",
    "            if (left_angle>150) and (right_angle>150):\n",
    "                stage=\"Down\"\n",
    "            if ( (left_angle<30) and (right_angle<30) ) and stage==\"Down\":\n",
    "                stage=\"UP\"\n",
    "                counter = counter + 1\n",
    "                print(\"counter = \",counter)\n",
    "            \n",
    "        except:\n",
    "            pass\n",
    "        \n",
    "        # Render curl counter\n",
    "        # Setup status box 138, 68, 15\n",
    "        cv2.rectangle(img, (0,0), (270,93), (15,68,138), -1)\n",
    "\n",
    "\n",
    "        cv2.putText(img, 'REPS', (15,20), \n",
    "                    cv2.FONT_HERSHEY_SIMPLEX, 0.5, (255,255,255), 1, cv2.LINE_AA)\n",
    "        \n",
    "        cv2.putText(img, str(counter), \n",
    "                    (10,70), \n",
    "                    cv2.FONT_HERSHEY_SIMPLEX, 2, (255,255,255), 2, cv2.LINE_AA)\n",
    "\n",
    "        # Stage data\n",
    "        cv2.putText(img, 'STAGE', (125,20), \n",
    "                    cv2.FONT_HERSHEY_SIMPLEX, 0.5, (255,255,255), 1, cv2.LINE_AA)\n",
    "        \n",
    "        cv2.putText(img, stage, \n",
    "                    (95,70), \n",
    "                    cv2.FONT_HERSHEY_SIMPLEX, 2, (255,255,255), 2, cv2.LINE_AA)\n",
    "        \n",
    "        mp_drawing.draw_landmarks(img,\n",
    "                                  results.pose_landmarks,\n",
    "                                  mp_pose.POSE_CONNECTIONS,\n",
    "                                  mp_drawing.DrawingSpec(color=(30,100,250),\n",
    "                                                         thickness=2,\n",
    "                                                         circle_radius=3),\n",
    "                                  mp_drawing.DrawingSpec(color=(200,40,150),\n",
    "                                                         thickness=2,\n",
    "                                                         circle_radius=3))\n",
    "        \n",
    "        \n",
    "        cv2.imshow(\"AI GYM\", img)\n",
    "        \n",
    "        if cv2.waitKey(1) & 0xFF == ord('q'):\n",
    "            break\n",
    "            \n",
    "    cap.release()\n",
    "    cv2.destroyAllWindows()\n",
    "    \n",
    "    # only for \"macOS\" as destroy window by default not works in my mac \n",
    "    # its just a trick\n",
    "    cv2.waitKey(1)\n",
    "    cv2.waitKey(1)\n",
    "    cv2.waitKey(1)\n",
    "    cv2.waitKey(1)"
   ]
  },
  {
   "cell_type": "code",
   "execution_count": null,
   "id": "9929e5d1",
   "metadata": {},
   "outputs": [],
   "source": []
  },
  {
   "cell_type": "code",
   "execution_count": null,
   "id": "e28f189c",
   "metadata": {},
   "outputs": [],
   "source": []
  },
  {
   "cell_type": "code",
   "execution_count": null,
   "id": "15b3854b",
   "metadata": {},
   "outputs": [],
   "source": []
  },
  {
   "cell_type": "code",
   "execution_count": null,
   "id": "e24e1791",
   "metadata": {},
   "outputs": [],
   "source": []
  },
  {
   "cell_type": "code",
   "execution_count": null,
   "id": "a699ed26",
   "metadata": {},
   "outputs": [],
   "source": []
  },
  {
   "cell_type": "code",
   "execution_count": null,
   "id": "b4926658",
   "metadata": {},
   "outputs": [],
   "source": []
  },
  {
   "cell_type": "code",
   "execution_count": null,
   "id": "ea2c5c71",
   "metadata": {},
   "outputs": [],
   "source": []
  },
  {
   "cell_type": "code",
   "execution_count": null,
   "id": "822cb38d",
   "metadata": {},
   "outputs": [],
   "source": []
  },
  {
   "cell_type": "code",
   "execution_count": null,
   "id": "1ab90099",
   "metadata": {},
   "outputs": [],
   "source": []
  },
  {
   "cell_type": "code",
   "execution_count": null,
   "id": "b74e1970",
   "metadata": {},
   "outputs": [],
   "source": []
  },
  {
   "cell_type": "code",
   "execution_count": null,
   "id": "1baab49d",
   "metadata": {},
   "outputs": [],
   "source": []
  },
  {
   "cell_type": "code",
   "execution_count": null,
   "id": "eaead36e",
   "metadata": {},
   "outputs": [],
   "source": []
  },
  {
   "cell_type": "code",
   "execution_count": null,
   "id": "c29b2e46",
   "metadata": {},
   "outputs": [],
   "source": []
  },
  {
   "cell_type": "code",
   "execution_count": null,
   "id": "c782e8f0",
   "metadata": {},
   "outputs": [],
   "source": []
  },
  {
   "cell_type": "code",
   "execution_count": null,
   "id": "bc61874e",
   "metadata": {},
   "outputs": [],
   "source": []
  }
 ],
 "metadata": {
  "kernelspec": {
   "display_name": "Python 3 (ipykernel)",
   "language": "python",
   "name": "python3"
  },
  "language_info": {
   "codemirror_mode": {
    "name": "ipython",
    "version": 3
   },
   "file_extension": ".py",
   "mimetype": "text/x-python",
   "name": "python",
   "nbconvert_exporter": "python",
   "pygments_lexer": "ipython3",
   "version": "3.11.5"
  }
 },
 "nbformat": 4,
 "nbformat_minor": 5
}
